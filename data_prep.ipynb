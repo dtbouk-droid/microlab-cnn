# ================================================================
#  Data Preparation (DIBaS → JPG/PNG, Tiling, and Augmentations)
#  --------------------------------------------------------------
#  Converts TIFF images to JPG/PNG, creates 4× and 16× tiles,
#  and optionally applies basic augmentations (mirror, rotation, noise).
#  --------------------------------------------------------------
#  Author: YOUR NAME
#  License: MIT
# ================================================================

# === Install dependencies (quietly) =============================
!pip install -q opencv-python-headless==4.9.0.80 scikit-image==0.23.2

# === Imports ====================================================
import os, shutil, glob, math, zipfile, random
from pathlib import Path
from itertools import product

import numpy as np
from PIL import Image, ImageOps
import cv2
from skimage import io
from skimage.util import random_noise
import matplotlib.pyplot as plt

# Reproducibility
random.seed(123)
np.random.seed(123)

# === Optional: Mount Google Drive ===============================
USE_DRIVE = True  # set to False if not using Drive

if USE_DRIVE:
    from google.colab import drive
    drive.mount('/content/drive')

BASE_DIR = '/content/drive/MyDrive/microlab-data' if USE_DRIVE else '/content/microlab-data'
os.makedirs(BASE_DIR, exist_ok=True)
print("Base directory:", BASE_DIR)

# === Configure paths ============================================
# Source folder must contain one subfolder per class with .tif images
SOURCE_TIFF = f'{BASE_DIR}/DIBaS_TIFF'     # <-- Change to your real path
OUT_ROOT    = f'{BASE_DIR}/prepared'       # All outputs go here

# Output variants
OUT_JPG     = f'{OUT_ROOT}/jpg_OR'
OUT_PNG     = f'{OUT_ROOT}/png_OR'
OUT_JPG_4X  = f'{OUT_ROOT}/jpg_4x'
OUT_JPG_16X = f'{OUT_ROOT}/jpg_16x'
OUT_PNG_4X  = f'{OUT_ROOT}/png_4x'
OUT_PNG_16X = f'{OUT_ROOT}/png_16x'

for p in [OUT_JPG, OUT_PNG, OUT_JPG_4X, OUT_JPG_16X, OUT_PNG_4X, OUT_PNG_16X]:
    os.makedirs(p, exist_ok=True)

# === Detect class folders =======================================
classes = sorted([d.name for d in Path(SOURCE_TIFF).iterdir() if d.is_dir()])
print("Detected classes:", len(classes), classes[:5])

# === Utility: Convert TIFF tree to JPG or PNG ===================
def convert_tiff_tree(in_root, out_root, fmt='jpg', jpg_quality=95):
    """Convert .tif/.tiff to JPG or PNG, preserving class subfolders."""
    assert fmt in ('jpg', 'png')
    for cls in classes:
        src_dir = Path(in_root) / cls
        dst_dir = Path(out_root) / cls
        dst_dir.mkdir(parents=True, exist_ok=True)
        for tif in sorted(src_dir.glob('*.tif')) + sorted(src_dir.glob('*.tiff')):
            try:
                img = Image.open(tif).convert('RGB')
                out_name = dst_dir / (tif.stem + ('.jpg' if fmt=='jpg' else '.png'))
                if fmt == 'jpg':
                    img.save(out_name, 'JPEG', quality=jpg_quality, optimize=True)
                else:
                    img.save(out_name, 'PNG', optimize=True)
            except Exception as e:
                print("Skipped:", tif, e)

# === Utility: Split image into N×N tiles ========================
def tile_image(img: Image.Image, tiles_x: int, tiles_y: int):
    W, H = img.size
    w = W // tiles_x
    h = H // tiles_y
    tiles = []
    for yi in range(0, h*tiles_y, h):
        for xi in range(0, w*tiles_x, w):
            box = (xi, yi, xi+w, yi+h)
            tiles.append(img.crop(box))
    return tiles

def tile_tree(in_root, out_root, tiles_x=2, tiles_y=2, fmt='jpg'):
    """Generate 2×2 (4×) or 4×4 (16×) tiles from already converted images."""
    assert fmt in ('jpg','png')
    for cls in classes:
        src_dir = Path(in_root) / cls
        dst_dir = Path(out_root) / cls
        dst_dir.mkdir(parents=True, exist_ok=True)
        for imgp in sorted(list(src_dir.glob('*.jpg')) + list(src_dir.glob('*.png'))):
            img = Image.open(imgp).convert('RGB')
            tiles = tile_image(img, tiles_x, tiles_y)
            stem = imgp.stem
            ext = '.jpg' if fmt=='jpg' else '.png'
            for idx, tile in enumerate(tiles):
                outp = dst_dir / f'{stem}_{idx:02d}{ext}'
                if fmt=='jpg':
                    tile.save(outp, 'JPEG', quality=95, optimize=True)
                else:
                    tile.save(outp, 'PNG', optimize=True)

# === Run conversions and tiling ================================
print("Converting TIFF → JPG and PNG...")
convert_tiff_tree(SOURCE_TIFF, OUT_JPG, fmt='jpg', jpg_quality=95)
convert_tiff_tree(SOURCE_TIFF, OUT_PNG, fmt='png')

print("Creating 4× and 16× tiles...")
tile_tree(OUT_JPG, OUT_JPG_4X, tiles_x=2, tiles_y=2, fmt='jpg')
tile_tree(OUT_JPG, OUT_JPG_16X, tiles_x=4, tiles_y=4, fmt='jpg')
tile_tree(OUT_PNG, OUT_PNG_4X, tiles_x=2, tiles_y=2, fmt='png')
tile_tree(OUT_PNG, OUT_PNG_16X, tiles_x=4, tiles_y=4, fmt='png')

print("✅ Conversion and tiling complete.")
print("Output root:", OUT_ROOT)

# === Optional: Data augmentation ===============================
AUG_ROOT = f'{OUT_ROOT}/augmented'
os.makedirs(AUG_ROOT, exist_ok=True)

def save_img(img: Image.Image, dst_path: Path, fmt='jpg'):
    dst_path.parent.mkdir(parents=True, exist_ok=True)
    if fmt == 'jpg':
        img.save(dst_path, 'JPEG', quality=95, optimize=True)
    else:
        img.save(dst_path, 'PNG', optimize=True)

def augment_mirror_tree(in_root, out_root, fmt='jpg'):
    """Create mirror/flipped variants."""
    for cls in classes:
        src = Path(in_root) / cls
        dst = Path(out_root) / cls
        for p in sorted(list(src.glob('*.jpg')) + list(src.glob('*.png'))):
            img = Image.open(p).convert('RGB')
            save_img(img, dst / (p.stem + ('.jpg' if fmt=='jpg' else '.png')), fmt)
            save_img(ImageOps.mirror(img), dst / (p.stem + '_flipH' + ('.jpg' if fmt=='jpg' else '.png')), fmt)
            save_img(ImageOps.flip(img),   dst / (p.stem + '_flipV' + ('.jpg' if fmt=='jpg' else '.png')), fmt)
            save_img(ImageOps.flip(ImageOps.mirror(img)), dst / (p.stem + '_flipHV' + ('.jpg' if fmt=='jpg' else '.png')), fmt)

def rotate_fixed_tree(in_root, out_root, fmt='jpg'):
    """Create 90°,180°,270° rotations."""
    angles = [90, 180, 270]
    for cls in classes:
        src = Path(in_root) / cls
        dst = Path(out_root) / cls
        for p in sorted(list(src.glob('*.jpg')) + list(src.glob('*.png'))):
            img = Image.open(p).convert('RGB')
            save_img(img, dst / (p.stem + ('.jpg' if fmt=='jpg' else '.png')), fmt)
            for a in angles:
                rot = img.rotate(a, expand=True)
                bg = Image.new('RGB', rot.size, (255,255,255))
                bg.paste(rot)
                save_img(bg, dst / (p.stem + f'_rot{a}' + ('.jpg' if fmt=='jpg' else '.png')), fmt)

def rotate_random_tree(in_root, out_root, fmt='jpg', max_angle=90):
    """Create random rotations (0–max_angle)."""
    for cls in classes:
        src = Path(in_root) / cls
        dst = Path(out_root) / cls
        for p in sorted(list(src.glob('*.jpg')) + list(src.glob('*.png'))):
            img = Image.open(p).convert('RGB')
            save_img(img, dst / (p.stem + ('.jpg' if fmt=='jpg' else '.png')), fmt)
            a = random.uniform(0, max_angle)
            rot = img.rotate(a, expand=True)
            bg = Image.new('RGB', rot.size, (255,255,255))
            bg.paste(rot)
            save_img(bg, dst / (p.stem + f'_rotrnd' + ('.jpg' if fmt=='jpg' else '.png')), fmt)

def add_noise_tree(in_root, out_root, fmt='jpg', kinds=('gaussian','s&p','poisson')):
    """Add simple noise types."""
    for cls in classes:
        src = Path(in_root) / cls
        dst = Path(out_root) / cls
        for p in sorted(list(src.glob('*.jpg')) + list(src.glob('*.png'))):
            img = Image.open(p).convert('RGB')
            arr = np.array(img).astype(np.float32)/255.0
            save_img(img, dst / (p.stem + ('.jpg' if fmt=='jpg' else '.png')), fmt)
            if 'gaussian' in kinds:
                g = np.clip(random_noise(arr, mode='gaussian', var=0.01), 0, 1)
                save_img(Image.fromarray((g*255).astype(np.uint8)), dst / (p.stem + '_nG' + ('.jpg' if fmt=='jpg' else '.png')), fmt)
            if 's&p' in kinds:
                sp = np.clip(random_noise(arr, mode='s&p', amount=0.02), 0, 1)
                save_img(Image.fromarray((sp*255).astype(np.uint8)), dst / (p.stem + '_nSP' + ('.jpg' if fmt=='jpg' else '.png')), fmt)
            if 'poisson' in kinds:
                po = np.clip(random_noise(arr, mode='poisson'), 0, 1)
                save_img(Image.fromarray((po*255).astype(np.uint8)), dst / (p.stem + '_nP' + ('.jpg' if fmt=='jpg' else '.png')), fmt)

print("Augmentation functions ready. Uncomment below to generate:")

# augment_mirror_tree(OUT_PNG_4X, f'{AUG_ROOT}/M_4x', fmt='png')
# rotate_fixed_tree(OUT_PNG_4X, f'{AUG_ROOT}/R_4x', fmt='png')
# rotate_random_tree(OUT_PNG_4X, f'{AUG_ROOT}/A_4x', fmt='png')
# add_noise_tree(OUT_PNG_4X, f'{AUG_ROOT}/N_4x', fmt='png')

